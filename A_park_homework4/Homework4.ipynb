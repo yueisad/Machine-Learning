{
 "cells": [
  {
   "cell_type": "markdown",
   "id": "cc9d0123-bcbe-4aaf-aaf4-a00475daced4",
   "metadata": {
    "tags": []
   },
   "source": [
    "## Step 1: Import and Split Data"
   ]
  },
  {
   "cell_type": "code",
   "execution_count": 74,
   "id": "aacd1e4c-5466-4df9-96e7-d73626ecdfac",
   "metadata": {
    "tags": []
   },
   "outputs": [],
   "source": [
    "import pandas as pd\n",
    "from sklearn.model_selection import train_test_split\n",
    "from sklearn.neural_network import MLPClassifier\n",
    "from sklearn.metrics import accuracy_score\n",
    "\n",
    "# Load the titanic dataset\n",
    "df = pd.read_csv('titanic.csv')\n",
    "\n",
    "# Select the relevant columns\n",
    "X = df[['sex', 'age', 'sibsp']].copy()\n",
    "y = df['survived'].copy()\n",
    "\n",
    "# Convert 'sex' column to binary (0 for male, 1 for female)\n",
    "X['sex'] = X['sex'].map({'male': 0, 'female': 1})\n",
    "\n",
    "# Convert 'pclass' column because it leads to type error\n",
    "X = pd.get_dummies(df['pclass'], prefix='pclass').join(X)\n",
    "\n",
    "# Address the NaN values in the table by using the overall mean \n",
    "X.fillna(X.mean(), inplace=True)\n",
    "\n",
    "# Split the data into training (80%) and test (20%) sets\n",
    "X_train, X_test, y_train, y_test = train_test_split(X, y, test_size=0.2, random_state=42)"
   ]
  },
  {
   "cell_type": "markdown",
   "id": "dbead250-d0dd-4e86-bad1-d97bafbcedee",
   "metadata": {
    "tags": []
   },
   "source": [
    "## Step 2: Neural Network"
   ]
  },
  {
   "cell_type": "code",
   "execution_count": 75,
   "id": "298adb56-1743-41ac-9b65-4f682ca8b63f",
   "metadata": {
    "tags": []
   },
   "outputs": [
    {
     "data": {
      "text/html": [
       "<style>#sk-container-id-8 {color: black;}#sk-container-id-8 pre{padding: 0;}#sk-container-id-8 div.sk-toggleable {background-color: white;}#sk-container-id-8 label.sk-toggleable__label {cursor: pointer;display: block;width: 100%;margin-bottom: 0;padding: 0.3em;box-sizing: border-box;text-align: center;}#sk-container-id-8 label.sk-toggleable__label-arrow:before {content: \"▸\";float: left;margin-right: 0.25em;color: #696969;}#sk-container-id-8 label.sk-toggleable__label-arrow:hover:before {color: black;}#sk-container-id-8 div.sk-estimator:hover label.sk-toggleable__label-arrow:before {color: black;}#sk-container-id-8 div.sk-toggleable__content {max-height: 0;max-width: 0;overflow: hidden;text-align: left;background-color: #f0f8ff;}#sk-container-id-8 div.sk-toggleable__content pre {margin: 0.2em;color: black;border-radius: 0.25em;background-color: #f0f8ff;}#sk-container-id-8 input.sk-toggleable__control:checked~div.sk-toggleable__content {max-height: 200px;max-width: 100%;overflow: auto;}#sk-container-id-8 input.sk-toggleable__control:checked~label.sk-toggleable__label-arrow:before {content: \"▾\";}#sk-container-id-8 div.sk-estimator input.sk-toggleable__control:checked~label.sk-toggleable__label {background-color: #d4ebff;}#sk-container-id-8 div.sk-label input.sk-toggleable__control:checked~label.sk-toggleable__label {background-color: #d4ebff;}#sk-container-id-8 input.sk-hidden--visually {border: 0;clip: rect(1px 1px 1px 1px);clip: rect(1px, 1px, 1px, 1px);height: 1px;margin: -1px;overflow: hidden;padding: 0;position: absolute;width: 1px;}#sk-container-id-8 div.sk-estimator {font-family: monospace;background-color: #f0f8ff;border: 1px dotted black;border-radius: 0.25em;box-sizing: border-box;margin-bottom: 0.5em;}#sk-container-id-8 div.sk-estimator:hover {background-color: #d4ebff;}#sk-container-id-8 div.sk-parallel-item::after {content: \"\";width: 100%;border-bottom: 1px solid gray;flex-grow: 1;}#sk-container-id-8 div.sk-label:hover label.sk-toggleable__label {background-color: #d4ebff;}#sk-container-id-8 div.sk-serial::before {content: \"\";position: absolute;border-left: 1px solid gray;box-sizing: border-box;top: 0;bottom: 0;left: 50%;z-index: 0;}#sk-container-id-8 div.sk-serial {display: flex;flex-direction: column;align-items: center;background-color: white;padding-right: 0.2em;padding-left: 0.2em;position: relative;}#sk-container-id-8 div.sk-item {position: relative;z-index: 1;}#sk-container-id-8 div.sk-parallel {display: flex;align-items: stretch;justify-content: center;background-color: white;position: relative;}#sk-container-id-8 div.sk-item::before, #sk-container-id-8 div.sk-parallel-item::before {content: \"\";position: absolute;border-left: 1px solid gray;box-sizing: border-box;top: 0;bottom: 0;left: 50%;z-index: -1;}#sk-container-id-8 div.sk-parallel-item {display: flex;flex-direction: column;z-index: 1;position: relative;background-color: white;}#sk-container-id-8 div.sk-parallel-item:first-child::after {align-self: flex-end;width: 50%;}#sk-container-id-8 div.sk-parallel-item:last-child::after {align-self: flex-start;width: 50%;}#sk-container-id-8 div.sk-parallel-item:only-child::after {width: 0;}#sk-container-id-8 div.sk-dashed-wrapped {border: 1px dashed gray;margin: 0 0.4em 0.5em 0.4em;box-sizing: border-box;padding-bottom: 0.4em;background-color: white;}#sk-container-id-8 div.sk-label label {font-family: monospace;font-weight: bold;display: inline-block;line-height: 1.2em;}#sk-container-id-8 div.sk-label-container {text-align: center;}#sk-container-id-8 div.sk-container {/* jupyter's `normalize.less` sets `[hidden] { display: none; }` but bootstrap.min.css set `[hidden] { display: none !important; }` so we also need the `!important` here to be able to override the default hidden behavior on the sphinx rendered scikit-learn.org. See: https://github.com/scikit-learn/scikit-learn/issues/21755 */display: inline-block !important;position: relative;}#sk-container-id-8 div.sk-text-repr-fallback {display: none;}</style><div id=\"sk-container-id-8\" class=\"sk-top-container\"><div class=\"sk-text-repr-fallback\"><pre>MLPClassifier(activation=&#x27;logistic&#x27;, hidden_layer_sizes=(5, 5), max_iter=1000,\n",
       "              random_state=42)</pre><b>In a Jupyter environment, please rerun this cell to show the HTML representation or trust the notebook. <br />On GitHub, the HTML representation is unable to render, please try loading this page with nbviewer.org.</b></div><div class=\"sk-container\" hidden><div class=\"sk-item\"><div class=\"sk-estimator sk-toggleable\"><input class=\"sk-toggleable__control sk-hidden--visually\" id=\"sk-estimator-id-8\" type=\"checkbox\" checked><label for=\"sk-estimator-id-8\" class=\"sk-toggleable__label sk-toggleable__label-arrow\">MLPClassifier</label><div class=\"sk-toggleable__content\"><pre>MLPClassifier(activation=&#x27;logistic&#x27;, hidden_layer_sizes=(5, 5), max_iter=1000,\n",
       "              random_state=42)</pre></div></div></div></div></div>"
      ],
      "text/plain": [
       "MLPClassifier(activation='logistic', hidden_layer_sizes=(5, 5), max_iter=1000,\n",
       "              random_state=42)"
      ]
     },
     "execution_count": 75,
     "metadata": {},
     "output_type": "execute_result"
    }
   ],
   "source": [
    "# Neural network model 1\n",
    "model_1 = MLPClassifier(hidden_layer_sizes=(10, 10), activation='logistic', solver='adam', alpha=0.0001, learning_rate_init=0.001, max_iter=1000, random_state=42)\n",
    "model_1.fit(X_train, y_train)\n",
    "\n",
    "# Neural network model 2 \n",
    "model_2 = MLPClassifier(hidden_layer_sizes=(5, 5), activation='logistic', solver='adam', alpha=0.0001, learning_rate_init=0.001, max_iter=1000, random_state=42)\n",
    "model_2.fit(X_train, y_train)"
   ]
  },
  {
   "cell_type": "markdown",
   "id": "11f53594-aaa8-4d9f-a861-10ff09dabdd9",
   "metadata": {
    "tags": []
   },
   "source": [
    "## Step 3: Accuracy"
   ]
  },
  {
   "cell_type": "code",
   "execution_count": 76,
   "id": "e51c70c0-f325-4b99-92fd-e8104d79d0ef",
   "metadata": {
    "tags": []
   },
   "outputs": [
    {
     "name": "stdout",
     "output_type": "stream",
     "text": [
      "Model 1 Accuracy: 0.53 (Survived), 0.93 (Fatalities)\n",
      "Model 2 Accuracy: 0.53 (Survived), 0.93 (Fatalities)\n"
     ]
    }
   ],
   "source": [
    "# test set for Model 1\n",
    "y_pred_1 = model_1.predict(X_test)\n",
    "acc_survived_1 = accuracy_score(y_test[y_test == 1], y_pred_1[y_test == 1])\n",
    "acc_fatalities_1 = accuracy_score(y_test[y_test == 0], y_pred_1[y_test == 0])\n",
    "\n",
    "# test set for Model 2\n",
    "y_pred_2 = model_2.predict(X_test)\n",
    "acc_survived_2 = accuracy_score(y_test[y_test == 1], y_pred_2[y_test == 1])\n",
    "acc_fatalities_2 = accuracy_score(y_test[y_test == 0], y_pred_2[y_test == 0])\n",
    "\n",
    "print(f\"Model 1 Accuracy: {acc_survived_1:.2f} (Survived), {acc_fatalities_1:.2f} (Fatalities)\")\n",
    "print(f\"Model 2 Accuracy: {acc_survived_2:.2f} (Survived), {acc_fatalities_2:.2f} (Fatalities)\")"
   ]
  },
  {
   "cell_type": "markdown",
   "id": "5e11b688-3c28-4a2c-91cc-cf7d06edb4c1",
   "metadata": {
    "tags": []
   },
   "source": [
    "## Step 4: Compare to RandomForest"
   ]
  },
  {
   "cell_type": "code",
   "execution_count": 77,
   "id": "082d8da9-4520-491e-9f01-253f142c7fe8",
   "metadata": {
    "tags": []
   },
   "outputs": [
    {
     "name": "stdout",
     "output_type": "stream",
     "text": [
      "Random Forest Accuracy: 0.61 (Survived), 0.86 (Fatalities)\n"
     ]
    }
   ],
   "source": [
    "from sklearn.ensemble import RandomForestClassifier\n",
    "\n",
    "# Random Forest Model\n",
    "rf_model = RandomForestClassifier(random_state=42)\n",
    "rf_model.fit(X_train, y_train)\n",
    "\n",
    "# Predictions on the test set for Random Forest Model\n",
    "rf_y_pred = rf_model.predict(X_test)\n",
    "rf_acc_survived = accuracy_score(y_test[y_test == 1], rf_y_pred[y_test == 1])\n",
    "rf_acc_fatalities = accuracy_score(y_test[y_test == 0], rf_y_pred[y_test == 0])\n",
    "\n",
    "print(f\"Random Forest Accuracy: {rf_acc_survived:.2f} (Survived), {rf_acc_fatalities:.2f} (Fatalities)\")\n"
   ]
  },
  {
   "cell_type": "code",
   "execution_count": 81,
   "id": "85eebcb6-017b-4a39-93af-43767eec7781",
   "metadata": {
    "tags": []
   },
   "outputs": [
    {
     "data": {
      "image/png": "[encoded data removed]",
      "text/plain": [
       "<Figure size 1000x600 with 1 Axes>"
      ]
     },
     "metadata": {},
     "output_type": "display_data"
    }
   ],
   "source": [
    "import matplotlib.pyplot as plt\n",
    "\n",
    "labels = ['Model 1', 'Model 2', 'Random Forest']\n",
    "acc_survived = [acc_survived_1, acc_survived_2, rf_acc_survived]\n",
    "acc_fatalities = [acc_fatalities_1, acc_fatalities_2, rf_acc_fatalities]\n",
    "\n",
    "# plot model comparisons\n",
    "\n",
    "plt.figure(figsize=(10, 6))\n",
    "x = range(len(labels))\n",
    "plt.bar(x, acc_survived, width=0.2, align='center', label='Survived', color='b')\n",
    "plt.bar([i + 0.2 for i in x], acc_fatalities, width=0.2, align='center', label='Fatalities', color='r')\n",
    "plt.xticks([i + 0.1 for i in x], labels)\n",
    "plt.xlabel('Models')\n",
    "plt.ylabel('Out-of-Sample Accuracy')\n",
    "plt.title('Comparison of Model Accuracies')\n",
    "plt.legend()\n",
    "plt.show()\n"
   ]
  },
  {
   "cell_type": "markdown",
   "id": "3f076f9e-bb41-49a7-9983-a850a99e61f6",
   "metadata": {},
   "source": [
    "Based on the results from the neural models and the RandomForest model, we see that RandomForest has a higher rate of out-of-sample accuracy. "
   ]
  },
  {
   "cell_type": "code",
   "execution_count": null,
   "id": "8cb44caa-99ff-4d43-8051-83b0b4057c30",
   "metadata": {},
   "outputs": [],
   "source": []
  }
 ],
 "metadata": {
  "kernelspec": {
   "display_name": "Python 3 (ipykernel)",
   "language": "python",
   "name": "python3"
  },
  "language_info": {
   "codemirror_mode": {
    "name": "ipython",
    "version": 3
   },
   "file_extension": ".py",
   "mimetype": "text/x-python",
   "name": "python",
   "nbconvert_exporter": "python",
   "pygments_lexer": "ipython3",
   "version": "3.11.3"
  }
 },
 "nbformat": 4,
 "nbformat_minor": 5
}
