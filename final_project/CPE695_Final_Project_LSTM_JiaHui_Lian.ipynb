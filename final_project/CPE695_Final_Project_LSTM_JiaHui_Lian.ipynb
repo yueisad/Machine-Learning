{
 "cells": [
  {
   "cell_type": "code",
   "execution_count": null,
   "id": "b64de566",
   "metadata": {},
   "outputs": [],
   "source": [
    "#Stevens Institute of Technology\n",
    "#2023Summer CPE 695\n",
    "#Professor. ShuCheng Yu\n",
    "#Student Name: JiaHui Lian\n",
    "\n",
    "#Final Project: Algorithm 2: LSTM"
   ]
  },
  {
   "cell_type": "code",
   "execution_count": 37,
   "id": "75a9ba62",
   "metadata": {},
   "outputs": [
    {
     "name": "stdout",
     "output_type": "stream",
     "text": [
      "Requirement already satisfied: yfinance in c:\\users\\jiahu\\anaconda3\\lib\\site-packages (0.2.28)\n",
      "Requirement already satisfied: multitasking>=0.0.7 in c:\\users\\jiahu\\anaconda3\\lib\\site-packages (from yfinance) (0.0.11)\n",
      "Requirement already satisfied: pandas>=1.3.0 in c:\\users\\jiahu\\anaconda3\\lib\\site-packages (from yfinance) (1.5.3)\n",
      "Requirement already satisfied: frozendict>=2.3.4 in c:\\users\\jiahu\\anaconda3\\lib\\site-packages (from yfinance) (2.3.8)\n",
      "Requirement already satisfied: beautifulsoup4>=4.11.1 in c:\\users\\jiahu\\anaconda3\\lib\\site-packages (from yfinance) (4.11.1)\n",
      "Requirement already satisfied: appdirs>=1.4.4 in c:\\users\\jiahu\\anaconda3\\lib\\site-packages (from yfinance) (1.4.4)\n",
      "Requirement already satisfied: requests>=2.31 in c:\\users\\jiahu\\anaconda3\\lib\\site-packages (from yfinance) (2.31.0)\n",
      "Requirement already satisfied: html5lib>=1.1 in c:\\users\\jiahu\\anaconda3\\lib\\site-packages (from yfinance) (1.1)\n",
      "Requirement already satisfied: pytz>=2022.5 in c:\\users\\jiahu\\anaconda3\\lib\\site-packages (from yfinance) (2022.7)\n",
      "Requirement already satisfied: lxml>=4.9.1 in c:\\users\\jiahu\\anaconda3\\lib\\site-packages (from yfinance) (4.9.1)\n",
      "Requirement already satisfied: numpy>=1.16.5 in c:\\users\\jiahu\\anaconda3\\lib\\site-packages (from yfinance) (1.23.5)\n",
      "Requirement already satisfied: soupsieve>1.2 in c:\\users\\jiahu\\anaconda3\\lib\\site-packages (from beautifulsoup4>=4.11.1->yfinance) (2.3.2.post1)\n",
      "Requirement already satisfied: webencodings in c:\\users\\jiahu\\anaconda3\\lib\\site-packages (from html5lib>=1.1->yfinance) (0.5.1)\n",
      "Requirement already satisfied: six>=1.9 in c:\\users\\jiahu\\anaconda3\\lib\\site-packages (from html5lib>=1.1->yfinance) (1.16.0)\n",
      "Requirement already satisfied: python-dateutil>=2.8.1 in c:\\users\\jiahu\\anaconda3\\lib\\site-packages (from pandas>=1.3.0->yfinance) (2.8.2)\n",
      "Requirement already satisfied: urllib3<3,>=1.21.1 in c:\\users\\jiahu\\anaconda3\\lib\\site-packages (from requests>=2.31->yfinance) (1.26.14)\n",
      "Requirement already satisfied: certifi>=2017.4.17 in c:\\users\\jiahu\\anaconda3\\lib\\site-packages (from requests>=2.31->yfinance) (2022.12.7)\n",
      "Requirement already satisfied: charset-normalizer<4,>=2 in c:\\users\\jiahu\\anaconda3\\lib\\site-packages (from requests>=2.31->yfinance) (2.0.4)\n",
      "Requirement already satisfied: idna<4,>=2.5 in c:\\users\\jiahu\\anaconda3\\lib\\site-packages (from requests>=2.31->yfinance) (3.4)\n",
      "Note: you may need to restart the kernel to use updated packages.\n",
      "Requirement already satisfied: tensorflow in c:\\users\\jiahu\\anaconda3\\lib\\site-packages (2.13.0)\n",
      "Requirement already satisfied: tensorflow-intel==2.13.0 in c:\\users\\jiahu\\anaconda3\\lib\\site-packages (from tensorflow) (2.13.0)\n",
      "Requirement already satisfied: six>=1.12.0 in c:\\users\\jiahu\\anaconda3\\lib\\site-packages (from tensorflow-intel==2.13.0->tensorflow) (1.16.0)\n",
      "Requirement already satisfied: grpcio<2.0,>=1.24.3 in c:\\users\\jiahu\\anaconda3\\lib\\site-packages (from tensorflow-intel==2.13.0->tensorflow) (1.57.0)\n",
      "Requirement already satisfied: wrapt>=1.11.0 in c:\\users\\jiahu\\anaconda3\\lib\\site-packages (from tensorflow-intel==2.13.0->tensorflow) (1.14.1)\n",
      "Requirement already satisfied: tensorflow-estimator<2.14,>=2.13.0 in c:\\users\\jiahu\\anaconda3\\lib\\site-packages (from tensorflow-intel==2.13.0->tensorflow) (2.13.0)\n",
      "Requirement already satisfied: setuptools in c:\\users\\jiahu\\anaconda3\\lib\\site-packages (from tensorflow-intel==2.13.0->tensorflow) (65.6.3)\n",
      "Requirement already satisfied: opt-einsum>=2.3.2 in c:\\users\\jiahu\\anaconda3\\lib\\site-packages (from tensorflow-intel==2.13.0->tensorflow) (3.3.0)\n",
      "Requirement already satisfied: gast<=0.4.0,>=0.2.1 in c:\\users\\jiahu\\anaconda3\\lib\\site-packages (from tensorflow-intel==2.13.0->tensorflow) (0.4.0)\n",
      "Requirement already satisfied: astunparse>=1.6.0 in c:\\users\\jiahu\\anaconda3\\lib\\site-packages (from tensorflow-intel==2.13.0->tensorflow) (1.6.3)\n",
      "Requirement already satisfied: protobuf!=4.21.0,!=4.21.1,!=4.21.2,!=4.21.3,!=4.21.4,!=4.21.5,<5.0.0dev,>=3.20.3 in c:\\users\\jiahu\\anaconda3\\lib\\site-packages (from tensorflow-intel==2.13.0->tensorflow) (4.24.1)\n",
      "Requirement already satisfied: tensorflow-io-gcs-filesystem>=0.23.1 in c:\\users\\jiahu\\anaconda3\\lib\\site-packages (from tensorflow-intel==2.13.0->tensorflow) (0.31.0)\n",
      "Requirement already satisfied: numpy<=1.24.3,>=1.22 in c:\\users\\jiahu\\anaconda3\\lib\\site-packages (from tensorflow-intel==2.13.0->tensorflow) (1.23.5)\n",
      "Requirement already satisfied: flatbuffers>=23.1.21 in c:\\users\\jiahu\\anaconda3\\lib\\site-packages (from tensorflow-intel==2.13.0->tensorflow) (23.5.26)\n",
      "Requirement already satisfied: google-pasta>=0.1.1 in c:\\users\\jiahu\\anaconda3\\lib\\site-packages (from tensorflow-intel==2.13.0->tensorflow) (0.2.0)\n",
      "Requirement already satisfied: tensorboard<2.14,>=2.13 in c:\\users\\jiahu\\anaconda3\\lib\\site-packages (from tensorflow-intel==2.13.0->tensorflow) (2.13.0)\n",
      "Requirement already satisfied: libclang>=13.0.0 in c:\\users\\jiahu\\anaconda3\\lib\\site-packages (from tensorflow-intel==2.13.0->tensorflow) (16.0.6)\n",
      "Requirement already satisfied: h5py>=2.9.0 in c:\\users\\jiahu\\anaconda3\\lib\\site-packages (from tensorflow-intel==2.13.0->tensorflow) (3.7.0)\n",
      "Requirement already satisfied: termcolor>=1.1.0 in c:\\users\\jiahu\\anaconda3\\lib\\site-packages (from tensorflow-intel==2.13.0->tensorflow) (2.3.0)\n",
      "Requirement already satisfied: typing-extensions<4.6.0,>=3.6.6 in c:\\users\\jiahu\\anaconda3\\lib\\site-packages (from tensorflow-intel==2.13.0->tensorflow) (4.4.0)\n",
      "Requirement already satisfied: keras<2.14,>=2.13.1 in c:\\users\\jiahu\\anaconda3\\lib\\site-packages (from tensorflow-intel==2.13.0->tensorflow) (2.13.1)\n",
      "Requirement already satisfied: absl-py>=1.0.0 in c:\\users\\jiahu\\anaconda3\\lib\\site-packages (from tensorflow-intel==2.13.0->tensorflow) (1.4.0)\n",
      "Requirement already satisfied: packaging in c:\\users\\jiahu\\anaconda3\\lib\\site-packages (from tensorflow-intel==2.13.0->tensorflow) (22.0)\n",
      "Requirement already satisfied: wheel<1.0,>=0.23.0 in c:\\users\\jiahu\\anaconda3\\lib\\site-packages (from astunparse>=1.6.0->tensorflow-intel==2.13.0->tensorflow) (0.38.4)\n",
      "Requirement already satisfied: tensorboard-data-server<0.8.0,>=0.7.0 in c:\\users\\jiahu\\anaconda3\\lib\\site-packages (from tensorboard<2.14,>=2.13->tensorflow-intel==2.13.0->tensorflow) (0.7.1)\n",
      "Requirement already satisfied: werkzeug>=1.0.1 in c:\\users\\jiahu\\anaconda3\\lib\\site-packages (from tensorboard<2.14,>=2.13->tensorflow-intel==2.13.0->tensorflow) (2.2.2)\n",
      "Requirement already satisfied: google-auth<3,>=1.6.3 in c:\\users\\jiahu\\anaconda3\\lib\\site-packages (from tensorboard<2.14,>=2.13->tensorflow-intel==2.13.0->tensorflow) (2.22.0)\n",
      "Requirement already satisfied: markdown>=2.6.8 in c:\\users\\jiahu\\anaconda3\\lib\\site-packages (from tensorboard<2.14,>=2.13->tensorflow-intel==2.13.0->tensorflow) (3.4.1)\n",
      "Requirement already satisfied: requests<3,>=2.21.0 in c:\\users\\jiahu\\anaconda3\\lib\\site-packages (from tensorboard<2.14,>=2.13->tensorflow-intel==2.13.0->tensorflow) (2.31.0)\n",
      "Requirement already satisfied: google-auth-oauthlib<1.1,>=0.5 in c:\\users\\jiahu\\anaconda3\\lib\\site-packages (from tensorboard<2.14,>=2.13->tensorflow-intel==2.13.0->tensorflow) (1.0.0)\n",
      "Requirement already satisfied: cachetools<6.0,>=2.0.0 in c:\\users\\jiahu\\anaconda3\\lib\\site-packages (from google-auth<3,>=1.6.3->tensorboard<2.14,>=2.13->tensorflow-intel==2.13.0->tensorflow) (5.3.1)\n",
      "Requirement already satisfied: urllib3<2.0 in c:\\users\\jiahu\\anaconda3\\lib\\site-packages (from google-auth<3,>=1.6.3->tensorboard<2.14,>=2.13->tensorflow-intel==2.13.0->tensorflow) (1.26.14)\n",
      "Requirement already satisfied: pyasn1-modules>=0.2.1 in c:\\users\\jiahu\\anaconda3\\lib\\site-packages (from google-auth<3,>=1.6.3->tensorboard<2.14,>=2.13->tensorflow-intel==2.13.0->tensorflow) (0.2.8)\n",
      "Requirement already satisfied: rsa<5,>=3.1.4 in c:\\users\\jiahu\\anaconda3\\lib\\site-packages (from google-auth<3,>=1.6.3->tensorboard<2.14,>=2.13->tensorflow-intel==2.13.0->tensorflow) (4.9)\n",
      "Requirement already satisfied: requests-oauthlib>=0.7.0 in c:\\users\\jiahu\\anaconda3\\lib\\site-packages (from google-auth-oauthlib<1.1,>=0.5->tensorboard<2.14,>=2.13->tensorflow-intel==2.13.0->tensorflow) (1.3.1)\n",
      "Requirement already satisfied: certifi>=2017.4.17 in c:\\users\\jiahu\\anaconda3\\lib\\site-packages (from requests<3,>=2.21.0->tensorboard<2.14,>=2.13->tensorflow-intel==2.13.0->tensorflow) (2022.12.7)\n",
      "Requirement already satisfied: idna<4,>=2.5 in c:\\users\\jiahu\\anaconda3\\lib\\site-packages (from requests<3,>=2.21.0->tensorboard<2.14,>=2.13->tensorflow-intel==2.13.0->tensorflow) (3.4)\n",
      "Requirement already satisfied: charset-normalizer<4,>=2 in c:\\users\\jiahu\\anaconda3\\lib\\site-packages (from requests<3,>=2.21.0->tensorboard<2.14,>=2.13->tensorflow-intel==2.13.0->tensorflow) (2.0.4)\n",
      "Requirement already satisfied: MarkupSafe>=2.1.1 in c:\\users\\jiahu\\anaconda3\\lib\\site-packages (from werkzeug>=1.0.1->tensorboard<2.14,>=2.13->tensorflow-intel==2.13.0->tensorflow) (2.1.1)\n",
      "Requirement already satisfied: pyasn1<0.5.0,>=0.4.6 in c:\\users\\jiahu\\anaconda3\\lib\\site-packages (from pyasn1-modules>=0.2.1->google-auth<3,>=1.6.3->tensorboard<2.14,>=2.13->tensorflow-intel==2.13.0->tensorflow) (0.4.8)\n",
      "Requirement already satisfied: oauthlib>=3.0.0 in c:\\users\\jiahu\\anaconda3\\lib\\site-packages (from requests-oauthlib>=0.7.0->google-auth-oauthlib<1.1,>=0.5->tensorboard<2.14,>=2.13->tensorflow-intel==2.13.0->tensorflow) (3.2.2)\n",
      "Note: you may need to restart the kernel to use updated packages.\n"
     ]
    }
   ],
   "source": [
    "# Import necessary libraries\n",
    "# Install yfinance, which provides tools to fetch financial data\n",
    "%pip install yfinance\n",
    "# Install TensorFlow, the deep learning library we'll be using\n",
    "%pip install tensorflow\n",
    "# Import required packages\n",
    "import yfinance as yf\n",
    "import numpy as np\n",
    "import pandas as pd\n",
    "import matplotlib.pyplot as plt\n",
    "from sklearn.preprocessing import MinMaxScaler\n",
    "from tensorflow.keras.models import Sequential\n",
    "from tensorflow.keras.layers import Dense, LSTM, Dropout\n",
    "from sklearn.metrics import precision_score"
   ]
  },
  {
   "cell_type": "code",
   "execution_count": 38,
   "id": "4164f758",
   "metadata": {},
   "outputs": [],
   "source": [
    "# Fetch the data\n",
    "# Retrieve data for S&P 500\n",
    "sp500 = yf.Ticker(\"^GSPC\")\n",
    "# Get all available historical data\n",
    "sp500 = sp500.history(period=\"max\")"
   ]
  },
  {
   "cell_type": "code",
   "execution_count": 39,
   "id": "2b467033",
   "metadata": {},
   "outputs": [
    {
     "data": {
      "text/html": [
       "<div>\n",
       "<style scoped>\n",
       "    .dataframe tbody tr th:only-of-type {\n",
       "        vertical-align: middle;\n",
       "    }\n",
       "\n",
       "    .dataframe tbody tr th {\n",
       "        vertical-align: top;\n",
       "    }\n",
       "\n",
       "    .dataframe thead th {\n",
       "        text-align: right;\n",
       "    }\n",
       "</style>\n",
       "<table border=\"1\" class=\"dataframe\">\n",
       "  <thead>\n",
       "    <tr style=\"text-align: right;\">\n",
       "      <th></th>\n",
       "      <th>Open</th>\n",
       "      <th>High</th>\n",
       "      <th>Low</th>\n",
       "      <th>Close</th>\n",
       "      <th>Volume</th>\n",
       "      <th>Dividends</th>\n",
       "      <th>Stock Splits</th>\n",
       "    </tr>\n",
       "    <tr>\n",
       "      <th>Date</th>\n",
       "      <th></th>\n",
       "      <th></th>\n",
       "      <th></th>\n",
       "      <th></th>\n",
       "      <th></th>\n",
       "      <th></th>\n",
       "      <th></th>\n",
       "    </tr>\n",
       "  </thead>\n",
       "  <tbody>\n",
       "    <tr>\n",
       "      <th>1927-12-30 00:00:00-05:00</th>\n",
       "      <td>17.660000</td>\n",
       "      <td>17.660000</td>\n",
       "      <td>17.660000</td>\n",
       "      <td>17.660000</td>\n",
       "      <td>0</td>\n",
       "      <td>0.0</td>\n",
       "      <td>0.0</td>\n",
       "    </tr>\n",
       "    <tr>\n",
       "      <th>1928-01-03 00:00:00-05:00</th>\n",
       "      <td>17.760000</td>\n",
       "      <td>17.760000</td>\n",
       "      <td>17.760000</td>\n",
       "      <td>17.760000</td>\n",
       "      <td>0</td>\n",
       "      <td>0.0</td>\n",
       "      <td>0.0</td>\n",
       "    </tr>\n",
       "    <tr>\n",
       "      <th>1928-01-04 00:00:00-05:00</th>\n",
       "      <td>17.719999</td>\n",
       "      <td>17.719999</td>\n",
       "      <td>17.719999</td>\n",
       "      <td>17.719999</td>\n",
       "      <td>0</td>\n",
       "      <td>0.0</td>\n",
       "      <td>0.0</td>\n",
       "    </tr>\n",
       "    <tr>\n",
       "      <th>1928-01-05 00:00:00-05:00</th>\n",
       "      <td>17.549999</td>\n",
       "      <td>17.549999</td>\n",
       "      <td>17.549999</td>\n",
       "      <td>17.549999</td>\n",
       "      <td>0</td>\n",
       "      <td>0.0</td>\n",
       "      <td>0.0</td>\n",
       "    </tr>\n",
       "    <tr>\n",
       "      <th>1928-01-06 00:00:00-05:00</th>\n",
       "      <td>17.660000</td>\n",
       "      <td>17.660000</td>\n",
       "      <td>17.660000</td>\n",
       "      <td>17.660000</td>\n",
       "      <td>0</td>\n",
       "      <td>0.0</td>\n",
       "      <td>0.0</td>\n",
       "    </tr>\n",
       "    <tr>\n",
       "      <th>...</th>\n",
       "      <td>...</td>\n",
       "      <td>...</td>\n",
       "      <td>...</td>\n",
       "      <td>...</td>\n",
       "      <td>...</td>\n",
       "      <td>...</td>\n",
       "      <td>...</td>\n",
       "    </tr>\n",
       "    <tr>\n",
       "      <th>2023-08-14 00:00:00-04:00</th>\n",
       "      <td>4458.129883</td>\n",
       "      <td>4490.330078</td>\n",
       "      <td>4453.439941</td>\n",
       "      <td>4489.720215</td>\n",
       "      <td>3896410000</td>\n",
       "      <td>0.0</td>\n",
       "      <td>0.0</td>\n",
       "    </tr>\n",
       "    <tr>\n",
       "      <th>2023-08-15 00:00:00-04:00</th>\n",
       "      <td>4478.870117</td>\n",
       "      <td>4478.870117</td>\n",
       "      <td>4432.189941</td>\n",
       "      <td>4437.859863</td>\n",
       "      <td>3832250000</td>\n",
       "      <td>0.0</td>\n",
       "      <td>0.0</td>\n",
       "    </tr>\n",
       "    <tr>\n",
       "      <th>2023-08-16 00:00:00-04:00</th>\n",
       "      <td>4433.790039</td>\n",
       "      <td>4449.950195</td>\n",
       "      <td>4403.549805</td>\n",
       "      <td>4404.330078</td>\n",
       "      <td>3753910000</td>\n",
       "      <td>0.0</td>\n",
       "      <td>0.0</td>\n",
       "    </tr>\n",
       "    <tr>\n",
       "      <th>2023-08-17 00:00:00-04:00</th>\n",
       "      <td>4416.319824</td>\n",
       "      <td>4421.169922</td>\n",
       "      <td>4364.830078</td>\n",
       "      <td>4370.359863</td>\n",
       "      <td>3943700000</td>\n",
       "      <td>0.0</td>\n",
       "      <td>0.0</td>\n",
       "    </tr>\n",
       "    <tr>\n",
       "      <th>2023-08-18 00:00:00-04:00</th>\n",
       "      <td>4344.879883</td>\n",
       "      <td>4381.819824</td>\n",
       "      <td>4335.310059</td>\n",
       "      <td>4369.709961</td>\n",
       "      <td>3940400000</td>\n",
       "      <td>0.0</td>\n",
       "      <td>0.0</td>\n",
       "    </tr>\n",
       "  </tbody>\n",
       "</table>\n",
       "<p>24023 rows × 7 columns</p>\n",
       "</div>"
      ],
      "text/plain": [
       "                                  Open         High          Low        Close  \\\n",
       "Date                                                                            \n",
       "1927-12-30 00:00:00-05:00    17.660000    17.660000    17.660000    17.660000   \n",
       "1928-01-03 00:00:00-05:00    17.760000    17.760000    17.760000    17.760000   \n",
       "1928-01-04 00:00:00-05:00    17.719999    17.719999    17.719999    17.719999   \n",
       "1928-01-05 00:00:00-05:00    17.549999    17.549999    17.549999    17.549999   \n",
       "1928-01-06 00:00:00-05:00    17.660000    17.660000    17.660000    17.660000   \n",
       "...                                ...          ...          ...          ...   \n",
       "2023-08-14 00:00:00-04:00  4458.129883  4490.330078  4453.439941  4489.720215   \n",
       "2023-08-15 00:00:00-04:00  4478.870117  4478.870117  4432.189941  4437.859863   \n",
       "2023-08-16 00:00:00-04:00  4433.790039  4449.950195  4403.549805  4404.330078   \n",
       "2023-08-17 00:00:00-04:00  4416.319824  4421.169922  4364.830078  4370.359863   \n",
       "2023-08-18 00:00:00-04:00  4344.879883  4381.819824  4335.310059  4369.709961   \n",
       "\n",
       "                               Volume  Dividends  Stock Splits  \n",
       "Date                                                            \n",
       "1927-12-30 00:00:00-05:00           0        0.0           0.0  \n",
       "1928-01-03 00:00:00-05:00           0        0.0           0.0  \n",
       "1928-01-04 00:00:00-05:00           0        0.0           0.0  \n",
       "1928-01-05 00:00:00-05:00           0        0.0           0.0  \n",
       "1928-01-06 00:00:00-05:00           0        0.0           0.0  \n",
       "...                               ...        ...           ...  \n",
       "2023-08-14 00:00:00-04:00  3896410000        0.0           0.0  \n",
       "2023-08-15 00:00:00-04:00  3832250000        0.0           0.0  \n",
       "2023-08-16 00:00:00-04:00  3753910000        0.0           0.0  \n",
       "2023-08-17 00:00:00-04:00  3943700000        0.0           0.0  \n",
       "2023-08-18 00:00:00-04:00  3940400000        0.0           0.0  \n",
       "\n",
       "[24023 rows x 7 columns]"
      ]
     },
     "execution_count": 39,
     "metadata": {},
     "output_type": "execute_result"
    }
   ],
   "source": [
    "sp500"
   ]
  },
  {
   "cell_type": "code",
   "execution_count": 40,
   "id": "da3bac8f",
   "metadata": {},
   "outputs": [
    {
     "data": {
      "text/html": [
       "<div>\n",
       "<style scoped>\n",
       "    .dataframe tbody tr th:only-of-type {\n",
       "        vertical-align: middle;\n",
       "    }\n",
       "\n",
       "    .dataframe tbody tr th {\n",
       "        vertical-align: top;\n",
       "    }\n",
       "\n",
       "    .dataframe thead th {\n",
       "        text-align: right;\n",
       "    }\n",
       "</style>\n",
       "<table border=\"1\" class=\"dataframe\">\n",
       "  <thead>\n",
       "    <tr style=\"text-align: right;\">\n",
       "      <th></th>\n",
       "      <th>Open</th>\n",
       "      <th>High</th>\n",
       "      <th>Low</th>\n",
       "      <th>Close</th>\n",
       "      <th>Volume</th>\n",
       "    </tr>\n",
       "    <tr>\n",
       "      <th>Date</th>\n",
       "      <th></th>\n",
       "      <th></th>\n",
       "      <th></th>\n",
       "      <th></th>\n",
       "      <th></th>\n",
       "    </tr>\n",
       "  </thead>\n",
       "  <tbody>\n",
       "    <tr>\n",
       "      <th>1990-01-02 00:00:00-05:00</th>\n",
       "      <td>353.399994</td>\n",
       "      <td>359.690002</td>\n",
       "      <td>351.980011</td>\n",
       "      <td>359.690002</td>\n",
       "      <td>162070000</td>\n",
       "    </tr>\n",
       "    <tr>\n",
       "      <th>1990-01-03 00:00:00-05:00</th>\n",
       "      <td>359.690002</td>\n",
       "      <td>360.589996</td>\n",
       "      <td>357.890015</td>\n",
       "      <td>358.760010</td>\n",
       "      <td>192330000</td>\n",
       "    </tr>\n",
       "    <tr>\n",
       "      <th>1990-01-04 00:00:00-05:00</th>\n",
       "      <td>358.760010</td>\n",
       "      <td>358.760010</td>\n",
       "      <td>352.890015</td>\n",
       "      <td>355.670013</td>\n",
       "      <td>177000000</td>\n",
       "    </tr>\n",
       "    <tr>\n",
       "      <th>1990-01-05 00:00:00-05:00</th>\n",
       "      <td>355.670013</td>\n",
       "      <td>355.670013</td>\n",
       "      <td>351.350006</td>\n",
       "      <td>352.200012</td>\n",
       "      <td>158530000</td>\n",
       "    </tr>\n",
       "    <tr>\n",
       "      <th>1990-01-08 00:00:00-05:00</th>\n",
       "      <td>352.200012</td>\n",
       "      <td>354.239990</td>\n",
       "      <td>350.540009</td>\n",
       "      <td>353.790009</td>\n",
       "      <td>140110000</td>\n",
       "    </tr>\n",
       "    <tr>\n",
       "      <th>...</th>\n",
       "      <td>...</td>\n",
       "      <td>...</td>\n",
       "      <td>...</td>\n",
       "      <td>...</td>\n",
       "      <td>...</td>\n",
       "    </tr>\n",
       "    <tr>\n",
       "      <th>2023-08-14 00:00:00-04:00</th>\n",
       "      <td>4458.129883</td>\n",
       "      <td>4490.330078</td>\n",
       "      <td>4453.439941</td>\n",
       "      <td>4489.720215</td>\n",
       "      <td>3896410000</td>\n",
       "    </tr>\n",
       "    <tr>\n",
       "      <th>2023-08-15 00:00:00-04:00</th>\n",
       "      <td>4478.870117</td>\n",
       "      <td>4478.870117</td>\n",
       "      <td>4432.189941</td>\n",
       "      <td>4437.859863</td>\n",
       "      <td>3832250000</td>\n",
       "    </tr>\n",
       "    <tr>\n",
       "      <th>2023-08-16 00:00:00-04:00</th>\n",
       "      <td>4433.790039</td>\n",
       "      <td>4449.950195</td>\n",
       "      <td>4403.549805</td>\n",
       "      <td>4404.330078</td>\n",
       "      <td>3753910000</td>\n",
       "    </tr>\n",
       "    <tr>\n",
       "      <th>2023-08-17 00:00:00-04:00</th>\n",
       "      <td>4416.319824</td>\n",
       "      <td>4421.169922</td>\n",
       "      <td>4364.830078</td>\n",
       "      <td>4370.359863</td>\n",
       "      <td>3943700000</td>\n",
       "    </tr>\n",
       "    <tr>\n",
       "      <th>2023-08-18 00:00:00-04:00</th>\n",
       "      <td>4344.879883</td>\n",
       "      <td>4381.819824</td>\n",
       "      <td>4335.310059</td>\n",
       "      <td>4369.709961</td>\n",
       "      <td>3940400000</td>\n",
       "    </tr>\n",
       "  </tbody>\n",
       "</table>\n",
       "<p>8473 rows × 5 columns</p>\n",
       "</div>"
      ],
      "text/plain": [
       "                                  Open         High          Low        Close  \\\n",
       "Date                                                                            \n",
       "1990-01-02 00:00:00-05:00   353.399994   359.690002   351.980011   359.690002   \n",
       "1990-01-03 00:00:00-05:00   359.690002   360.589996   357.890015   358.760010   \n",
       "1990-01-04 00:00:00-05:00   358.760010   358.760010   352.890015   355.670013   \n",
       "1990-01-05 00:00:00-05:00   355.670013   355.670013   351.350006   352.200012   \n",
       "1990-01-08 00:00:00-05:00   352.200012   354.239990   350.540009   353.790009   \n",
       "...                                ...          ...          ...          ...   \n",
       "2023-08-14 00:00:00-04:00  4458.129883  4490.330078  4453.439941  4489.720215   \n",
       "2023-08-15 00:00:00-04:00  4478.870117  4478.870117  4432.189941  4437.859863   \n",
       "2023-08-16 00:00:00-04:00  4433.790039  4449.950195  4403.549805  4404.330078   \n",
       "2023-08-17 00:00:00-04:00  4416.319824  4421.169922  4364.830078  4370.359863   \n",
       "2023-08-18 00:00:00-04:00  4344.879883  4381.819824  4335.310059  4369.709961   \n",
       "\n",
       "                               Volume  \n",
       "Date                                   \n",
       "1990-01-02 00:00:00-05:00   162070000  \n",
       "1990-01-03 00:00:00-05:00   192330000  \n",
       "1990-01-04 00:00:00-05:00   177000000  \n",
       "1990-01-05 00:00:00-05:00   158530000  \n",
       "1990-01-08 00:00:00-05:00   140110000  \n",
       "...                               ...  \n",
       "2023-08-14 00:00:00-04:00  3896410000  \n",
       "2023-08-15 00:00:00-04:00  3832250000  \n",
       "2023-08-16 00:00:00-04:00  3753910000  \n",
       "2023-08-17 00:00:00-04:00  3943700000  \n",
       "2023-08-18 00:00:00-04:00  3940400000  \n",
       "\n",
       "[8473 rows x 5 columns]"
      ]
     },
     "execution_count": 40,
     "metadata": {},
     "output_type": "execute_result"
    }
   ],
   "source": [
    "# Data preprocessing\n",
    "# Filter data to get records from 1990 onwards\n",
    "sp500 = sp500.loc[\"1990-01-01\":].copy()\n",
    "# Remove dividends and stock splits columns as they're not used in this analysis\n",
    "del sp500[\"Dividends\"]\n",
    "del sp500[\"Stock Splits\"]\n",
    "# Remove any rows with missing data\n",
    "sp500.dropna()"
   ]
  },
  {
   "cell_type": "code",
   "execution_count": 41,
   "id": "ae7778a3",
   "metadata": {},
   "outputs": [
    {
     "name": "stdout",
     "output_type": "stream",
     "text": [
      "<class 'pandas.core.frame.DataFrame'>\n",
      "DatetimeIndex: 8473 entries, 1990-01-02 00:00:00-05:00 to 2023-08-18 00:00:00-04:00\n",
      "Data columns (total 5 columns):\n",
      " #   Column  Non-Null Count  Dtype  \n",
      "---  ------  --------------  -----  \n",
      " 0   Open    8473 non-null   float64\n",
      " 1   High    8473 non-null   float64\n",
      " 2   Low     8473 non-null   float64\n",
      " 3   Close   8473 non-null   float64\n",
      " 4   Volume  8473 non-null   int64  \n",
      "dtypes: float64(4), int64(1)\n",
      "memory usage: 397.2 KB\n"
     ]
    }
   ],
   "source": [
    "# Display general info about the data\n",
    "sp500.info()"
   ]
  },
  {
   "cell_type": "code",
   "execution_count": 42,
   "id": "b911eefd",
   "metadata": {},
   "outputs": [
    {
     "data": {
      "text/plain": [
       "array([[ 359.69000244],\n",
       "       [ 358.76000977],\n",
       "       [ 355.67001343],\n",
       "       ...,\n",
       "       [4404.33007812],\n",
       "       [4370.35986328],\n",
       "       [4369.70996094]])"
      ]
     },
     "execution_count": 42,
     "metadata": {},
     "output_type": "execute_result"
    }
   ],
   "source": [
    "# Extract 'Close' price for training\n",
    "trainData = sp500.iloc[:,3:4].values\n",
    "trainData"
   ]
  },
  {
   "cell_type": "code",
   "execution_count": 43,
   "id": "a778e6c1",
   "metadata": {},
   "outputs": [
    {
     "data": {
      "text/plain": [
       "(8473, 1)"
      ]
     },
     "execution_count": 43,
     "metadata": {},
     "output_type": "execute_result"
    }
   ],
   "source": [
    "# Data normalization\n",
    "# Initialize a scaler to normalize data\n",
    "scaler = MinMaxScaler(feature_range=(0, 1))\n",
    "# Normalize the 'Close' price data for better performance in training\n",
    "trainData = scaler.fit_transform(trainData)\n",
    "trainData.shape"
   ]
  },
  {
   "cell_type": "code",
   "execution_count": 44,
   "id": "b11dabc6",
   "metadata": {},
   "outputs": [
    {
     "data": {
      "text/plain": [
       "array([[0.01426985],\n",
       "       [0.01406323],\n",
       "       [0.01337673],\n",
       "       ...,\n",
       "       [0.91285908],\n",
       "       [0.90531199],\n",
       "       [0.90516761]])"
      ]
     },
     "execution_count": 44,
     "metadata": {},
     "output_type": "execute_result"
    }
   ],
   "source": [
    "trainData"
   ]
  },
  {
   "cell_type": "code",
   "execution_count": 45,
   "id": "6dbbe6e1",
   "metadata": {},
   "outputs": [],
   "source": [
    "# Create the dataset for LSTM\n",
    "# Initialize lists to store training data\n",
    "X = []\n",
    "y = []"
   ]
  },
  {
   "cell_type": "code",
   "execution_count": 46,
   "id": "e5995b79",
   "metadata": {},
   "outputs": [],
   "source": [
    "# Prepare data for training: For each day, use the past 60 days' data to predict the next day's close price\n",
    "for i in range(60, len(trainData)): # 60: timestep // len(trainData): lenth of the data\n",
    "    X.append(trainData[i-60:i,0])\n",
    "    y.append(trainData[i,0])\n",
    "\n",
    "# Convert lists to arrays\n",
    "X, y = np.array(X), np.array(y)"
   ]
  },
  {
   "cell_type": "code",
   "execution_count": 47,
   "id": "9f16791a",
   "metadata": {},
   "outputs": [
    {
     "data": {
      "text/plain": [
       "(8413, 60, 1)"
      ]
     },
     "execution_count": 47,
     "metadata": {},
     "output_type": "execute_result"
    }
   ],
   "source": [
    "# Reshape the data to 3D array for LSTM input, adding the batch size axis\n",
    "X = np.reshape(X, (X.shape[0],X.shape[1],1))\n",
    "X.shape"
   ]
  },
  {
   "cell_type": "code",
   "execution_count": 48,
   "id": "9af2e0ab",
   "metadata": {},
   "outputs": [],
   "source": [
    "# Build the LSTM model\n",
    "\n",
    "# Build the LSTM model with 4 layers of LSTM network that all following by a dropout layer\n",
    "# At the end, we have a final dense layer\n",
    "# All these compiled with an adam optimizer, and the mean squared error as the loss function.\n",
    "\n",
    "# Initialize a Sequential model\n",
    "model = Sequential()\n",
    "\n",
    "# Add four LSTM layers with dropout for regularization\n",
    "model.add(LSTM(units=100, return_sequences=True, input_shape=(X.shape[1], 1)))\n",
    "model.add(Dropout(0.2))\n",
    "\n",
    "model.add(LSTM(units=100, return_sequences=True))\n",
    "model.add(Dropout(0.2))\n",
    "\n",
    "model.add(LSTM(units=100, return_sequences=True))\n",
    "model.add(Dropout(0.2))\n",
    "\n",
    "model.add(LSTM(units=100, return_sequences=False))\n",
    "model.add(Dropout(0.2))\n",
    "\n",
    "# Add a dense layer to get the predicted 'Close' price\n",
    "model.add(Dense(units=1))\n",
    "\n",
    "# Compile the model using adam optimizer and mean squared error loss function\n",
    "model.compile(optimizer='adam', loss='mean_squared_error')\n"
   ]
  },
  {
   "cell_type": "code",
   "execution_count": 49,
   "id": "c4cf37b2",
   "metadata": {},
   "outputs": [
    {
     "name": "stdout",
     "output_type": "stream",
     "text": [
      "Epoch 1/20\n",
      "263/263 - 20s - loss: 0.0032 - 20s/epoch - 76ms/step\n",
      "Epoch 2/20\n",
      "263/263 - 16s - loss: 9.6950e-04 - 16s/epoch - 60ms/step\n",
      "Epoch 3/20\n",
      "263/263 - 16s - loss: 9.2385e-04 - 16s/epoch - 60ms/step\n",
      "Epoch 4/20\n",
      "263/263 - 16s - loss: 7.5763e-04 - 16s/epoch - 60ms/step\n",
      "Epoch 5/20\n",
      "263/263 - 16s - loss: 6.1356e-04 - 16s/epoch - 61ms/step\n",
      "Epoch 6/20\n",
      "263/263 - 16s - loss: 7.3757e-04 - 16s/epoch - 61ms/step\n",
      "Epoch 7/20\n",
      "263/263 - 16s - loss: 5.9152e-04 - 16s/epoch - 61ms/step\n",
      "Epoch 8/20\n",
      "263/263 - 16s - loss: 5.8998e-04 - 16s/epoch - 60ms/step\n",
      "Epoch 9/20\n",
      "263/263 - 16s - loss: 6.5547e-04 - 16s/epoch - 60ms/step\n",
      "Epoch 10/20\n",
      "263/263 - 16s - loss: 5.1191e-04 - 16s/epoch - 60ms/step\n",
      "Epoch 11/20\n",
      "263/263 - 16s - loss: 6.6715e-04 - 16s/epoch - 60ms/step\n",
      "Epoch 12/20\n",
      "263/263 - 16s - loss: 4.5044e-04 - 16s/epoch - 60ms/step\n",
      "Epoch 13/20\n",
      "263/263 - 16s - loss: 5.2670e-04 - 16s/epoch - 60ms/step\n",
      "Epoch 14/20\n",
      "263/263 - 16s - loss: 4.6853e-04 - 16s/epoch - 60ms/step\n",
      "Epoch 15/20\n",
      "263/263 - 16s - loss: 4.3601e-04 - 16s/epoch - 62ms/step\n",
      "Epoch 16/20\n",
      "263/263 - 16s - loss: 5.5519e-04 - 16s/epoch - 61ms/step\n",
      "Epoch 17/20\n",
      "263/263 - 16s - loss: 4.3717e-04 - 16s/epoch - 61ms/step\n",
      "Epoch 18/20\n",
      "263/263 - 16s - loss: 4.3785e-04 - 16s/epoch - 62ms/step\n",
      "Epoch 19/20\n",
      "263/263 - 16s - loss: 5.5381e-04 - 16s/epoch - 61ms/step\n",
      "Epoch 20/20\n",
      "263/263 - 16s - loss: 4.1297e-04 - 16s/epoch - 61ms/step\n"
     ]
    }
   ],
   "source": [
    "# Train the LSTM model\n",
    "# Train the model using the training data with 20 epochs, and use 32 as batch_size\n",
    "hist = model.fit(X, y, epochs = 20, batch_size = 32, verbose = 2)"
   ]
  },
  {
   "cell_type": "code",
   "execution_count": 50,
   "id": "01b5823e",
   "metadata": {},
   "outputs": [
    {
     "data": {
      "image/png": "[encoded data removed]",
      "text/plain": [
       "<Figure size 640x480 with 1 Axes>"
      ]
     },
     "metadata": {},
     "output_type": "display_data"
    }
   ],
   "source": [
    "# Visualize the training loss\n",
    "# Plot training loss over epochs\n",
    "plt.plot(hist.history['loss'])\n",
    "plt.title('Training model loss')\n",
    "plt.ylabel('loss')\n",
    "plt.xlabel('epoch')\n",
    "plt.legend(['train'], loc='upper left')\n",
    "plt.show()"
   ]
  },
  {
   "cell_type": "code",
   "execution_count": 65,
   "id": "1f4cb67f",
   "metadata": {},
   "outputs": [
    {
     "data": {
      "text/plain": [
       "(8473, 1)"
      ]
     },
     "execution_count": 65,
     "metadata": {},
     "output_type": "execute_result"
    }
   ],
   "source": [
    "# Test the LSTM model\n",
    "# Fetch the testing dataset\n",
    "testData = yf.Ticker(\"^GSPC\")\n",
    "testData = testData.history(period=\"max\")\n",
    "testData = testData.loc[\"1990-01-01\":].copy()\n",
    "# Similar preprocessing as before\n",
    "del testData[\"Dividends\"]\n",
    "del testData[\"Stock Splits\"]\n",
    "testData.dropna()\n",
    "# Extract the 'Close' price for testing\n",
    "testData = testData.iloc[:,3:4]\n",
    "y_test = testData.iloc[60:,0:].values\n",
    "# input array for the model\n",
    "inputClosing = testData.iloc[:,0:].values\n",
    "# Normalize test data\n",
    "inputClosing_scaled = scaler.transform(inputClosing)\n",
    "inputClosing_scaled.shape"
   ]
  },
  {
   "cell_type": "code",
   "execution_count": 67,
   "id": "8588456e",
   "metadata": {},
   "outputs": [
    {
     "data": {
      "text/plain": [
       "(8413, 60, 1)"
      ]
     },
     "execution_count": 67,
     "metadata": {},
     "output_type": "execute_result"
    }
   ],
   "source": [
    "# Prepare test dataset similar to training dataset\n",
    "X_test = []\n",
    "length = len(testData)\n",
    "timestep = 60\n",
    "for i in range(timestep, length):\n",
    "    X_test.append(inputClosing_scaled[i-timestep:i, 0])\n",
    "X_test = np.array(X_test)\n",
    "X_test = np.reshape(X_test,(X_test.shape[0], X_test.shape[1], 1))\n",
    "X_test.shape"
   ]
  },
  {
   "cell_type": "code",
   "execution_count": 68,
   "id": "280741fd",
   "metadata": {},
   "outputs": [
    {
     "name": "stdout",
     "output_type": "stream",
     "text": [
      "263/263 [==============================] - 4s 15ms/step\n"
     ]
    },
    {
     "data": {
      "text/plain": [
       "array([[0.01045504],\n",
       "       [0.01046424],\n",
       "       [0.01052491],\n",
       "       ...,\n",
       "       [0.9039227 ],\n",
       "       [0.90210044],\n",
       "       [0.8994099 ]], dtype=float32)"
      ]
     },
     "execution_count": 68,
     "metadata": {},
     "output_type": "execute_result"
    }
   ],
   "source": [
    "# Predict stock prices using the trained LSTM model\n",
    "y_pred = model.predict(X_test)\n",
    "y_pred"
   ]
  },
  {
   "cell_type": "code",
   "execution_count": 59,
   "id": "fe34e577",
   "metadata": {},
   "outputs": [],
   "source": [
    "# Inverse transform the predicted values to get the actual predicted prices\n",
    "predicted_price = scaler.inverse_transform(y_pred)"
   ]
  },
  {
   "cell_type": "code",
   "execution_count": 70,
   "id": "5da003d8",
   "metadata": {},
   "outputs": [
    {
     "data": {
      "image/png": "[encoded data removed]",
      "text/plain": [
       "<Figure size 640x480 with 1 Axes>"
      ]
     },
     "metadata": {},
     "output_type": "display_data"
    }
   ],
   "source": [
    "# Visualize the actual vs predicted stock prices\n",
    "plt.plot(y_test, color = 'red', label = 'Actual Stock Price')\n",
    "plt.plot(predicted_price, color = 'green', label = 'Predicted Stock Price')\n",
    "plt.title('Stock Price Prediction')\n",
    "plt.xlabel('Time')\n",
    "plt.ylabel('Stock Price')\n",
    "plt.legend()\n",
    "plt.show()"
   ]
  },
  {
   "cell_type": "code",
   "execution_count": 71,
   "id": "593b41e8",
   "metadata": {},
   "outputs": [
    {
     "name": "stdout",
     "output_type": "stream",
     "text": [
      "Accuracy: 0.49\n",
      "Precision: 0.52\n"
     ]
    }
   ],
   "source": [
    "# Evaluate the model's performance\n",
    "# Derive the predicted direction of stock price movement\n",
    "predicted_movement = np.sign(predicted_price[1:] - predicted_price[:-1]).flatten()\n",
    "\n",
    "# Derive the actual direction of stock price movement\n",
    "actual_movement = np.sign(y_test[1:] - y_test[:-1]).flatten()\n",
    "\n",
    "# Calculate model accuracy based on direction of stock movement\n",
    "correct_preds = np.where(predicted_movement == actual_movement, 1, 0)\n",
    "accuracy = correct_preds.sum() / correct_preds.size\n",
    "print(f\"Accuracy: {accuracy:.2f}\")\n",
    "\n",
    "# Check the model precision for predicting upward movement\n",
    "precision = precision_score(np.where(actual_movement == 1, 1, 0), \n",
    "                            np.where(predicted_movement == 1, 1, 0))\n",
    "print(f\"Precision: {precision:.2f}\")\n"
   ]
  },
  {
   "cell_type": "code",
   "execution_count": null,
   "id": "9ed4d493",
   "metadata": {},
   "outputs": [],
   "source": []
  }
 ],
 "metadata": {
  "kernelspec": {
   "display_name": "Python 3 (ipykernel)",
   "language": "python",
   "name": "python3"
  },
  "language_info": {
   "codemirror_mode": {
    "name": "ipython",
    "version": 3
   },
   "file_extension": ".py",
   "mimetype": "text/x-python",
   "name": "python",
   "nbconvert_exporter": "python",
   "pygments_lexer": "ipython3",
   "version": "3.10.9"
  }
 },
 "nbformat": 4,
 "nbformat_minor": 5
}
